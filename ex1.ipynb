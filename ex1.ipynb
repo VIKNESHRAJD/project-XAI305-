{
 "cells": [
  {
   "cell_type": "code",
   "execution_count": 1,
   "id": "083ecafd",
   "metadata": {},
   "outputs": [
    {
     "name": "stdout",
     "output_type": "stream",
     "text": [
      "Enter the num 1:5\n"
     ]
    }
   ],
   "source": [
    "num = int(input(\"Enter the num 1:\"))"
   ]
  },
  {
   "cell_type": "code",
   "execution_count": 2,
   "id": "c88fadd9",
   "metadata": {},
   "outputs": [],
   "source": [
    "if num % 13 == 0:\n",
    "    print(\"The number is divisible by 13\")"
   ]
  },
  {
   "cell_type": "markdown",
   "id": "1c8c81af",
   "metadata": {},
   "source": [
    "# IF ELSE"
   ]
  },
  {
   "cell_type": "code",
   "execution_count": 4,
   "id": "f4b6b727",
   "metadata": {},
   "outputs": [
    {
     "name": "stdout",
     "output_type": "stream",
     "text": [
      "Enter the number 5\n"
     ]
    }
   ],
   "source": [
    "num2 = int(input(\"Enter the number \"))"
   ]
  },
  {
   "cell_type": "code",
   "execution_count": 5,
   "id": "800a9412",
   "metadata": {},
   "outputs": [
    {
     "name": "stdout",
     "output_type": "stream",
     "text": [
      "The numer is Even \n"
     ]
    }
   ],
   "source": [
    "if num2 % 2 == 0:\n",
    "    print(\"The number is Odd\")\n",
    "else:\n",
    "    print(\"The numer is Even \")"
   ]
  },
  {
   "cell_type": "markdown",
   "id": "8475ba80",
   "metadata": {},
   "source": [
    "# activities"
   ]
  },
  {
   "cell_type": "code",
   "execution_count": 6,
   "id": "6274b8fb",
   "metadata": {},
   "outputs": [
    {
     "name": "stdout",
     "output_type": "stream",
     "text": [
      "Enter the number 1:10\n",
      "Enter the number 2:5\n"
     ]
    }
   ],
   "source": [
    "num3 = int(input(\"Enter the number 1:\"))\n",
    "num4 = int(input(\"Enter the number 2:\"))"
   ]
  },
  {
   "cell_type": "code",
   "execution_count": 7,
   "id": "37d6c530",
   "metadata": {},
   "outputs": [
    {
     "name": "stdout",
     "output_type": "stream",
     "text": [
      "the number is divisble\n"
     ]
    }
   ],
   "source": [
    "if num3 % num4 == 0:\n",
    "    print(\"the number is divisble\")\n",
    "else:\n",
    "    print(\"The number is not divisble\")"
   ]
  },
  {
   "cell_type": "markdown",
   "id": "0251d3e3",
   "metadata": {},
   "source": [
    "# IF , ELSE , ELIF"
   ]
  },
  {
   "cell_type": "code",
   "execution_count": 8,
   "id": "ad862f25",
   "metadata": {},
   "outputs": [
    {
     "name": "stdout",
     "output_type": "stream",
     "text": [
      "Enter The number10\n",
      "The number is positive \n"
     ]
    }
   ],
   "source": [
    "num44 = int(input(\"Enter The number\"))\n",
    "\n",
    "if num44 > 0 :\n",
    "    print(\"The number is positive \")\n",
    "\n",
    "elif num44 < 0 :\n",
    "    print(\"The number is negivite\")\n",
    "    \n",
    "else:\n",
    "    print(\"The number is ZERO\")"
   ]
  },
  {
   "cell_type": "code",
   "execution_count": null,
   "id": "07485300",
   "metadata": {},
   "outputs": [],
   "source": [
    "# Integer Example\n",
    "num1 = 10\n",
    "print(\"num1:\", num1, type(num1))\n",
    "\n",
    "# Float Example\n",
    "num2 = 3.14\n",
    "print(\"num2:\", num2, type(num2))\n",
    "\n",
    "# Complex Number Example\n",
    "num3 = 2 + 3j\n",
    "print(\"num3:\", num3, type(num3))\n"
   ]
  },
  {
   "cell_type": "code",
   "execution_count": 57,
   "id": "06e6ab7e",
   "metadata": {},
   "outputs": [
    {
     "name": "stdout",
     "output_type": "stream",
     "text": [
      "Value: 10 Type: <class 'int'>\n"
     ]
    }
   ],
   "source": [
    "num1 = 10 \n",
    "print(\"Value:\", num1, \"Type:\", type(num1))"
   ]
  },
  {
   "cell_type": "code",
   "execution_count": 58,
   "id": "9042e018",
   "metadata": {},
   "outputs": [
    {
     "name": "stdout",
     "output_type": "stream",
     "text": [
      "Value: 10 Type: <class 'float'>\n"
     ]
    }
   ],
   "source": [
    "num2 = 3.14\n",
    "print(\"Value:\", num1, \"Type:\", type(num2))\n"
   ]
  },
  {
   "cell_type": "code",
   "execution_count": 59,
   "id": "6a150823",
   "metadata": {},
   "outputs": [
    {
     "name": "stdout",
     "output_type": "stream",
     "text": [
      "Value: 10 Type: <class 'complex'>\n"
     ]
    }
   ],
   "source": [
    "num3 = 2 + 3j\n",
    "print(\"Value:\", num1, \"Type:\", type(num3))"
   ]
  },
  {
   "cell_type": "code",
   "execution_count": 60,
   "id": "c0078471",
   "metadata": {},
   "outputs": [
    {
     "name": "stdout",
     "output_type": "stream",
     "text": [
      "Value: HOLA FOLKS Type: <class 'str'>\n"
     ]
    }
   ],
   "source": [
    "name1=\"HOLA FOLKS\"\n",
    "print(\"Value:\", name1, \"Type:\", type(name1))"
   ]
  },
  {
   "cell_type": "code",
   "execution_count": 61,
   "id": "e882b927",
   "metadata": {
    "scrolled": true
   },
   "outputs": [
    {
     "name": "stdout",
     "output_type": "stream",
     "text": [
      "Value: [1, 2, 3, 'four', 'five'] Ty1pe: <class 'list'>\n"
     ]
    }
   ],
   "source": [
    "name2 = [1, 2, 3, \"four\", \"five\"]\n",
    "print(\"Value:\", name2, \"Type:\", type(name2))"
   ]
  },
  {
   "cell_type": "code",
   "execution_count": 62,
   "id": "9aa13ca3",
   "metadata": {},
   "outputs": [
    {
     "name": "stdout",
     "output_type": "stream",
     "text": [
      "Value: (1, 2, 3, 'four', 'five') Type: <class 'tuple'>\n"
     ]
    }
   ],
   "source": [
    "name3 = (1, 2, 3, \"four\", \"five\")\n",
    "print(\"Value:\", name3, \"Type:\", type(name3))"
   ]
  },
  {
   "cell_type": "code",
   "execution_count": 63,
   "id": "341506d3",
   "metadata": {},
   "outputs": [
    {
     "name": "stdout",
     "output_type": "stream",
     "text": [
      "Value: {1, 2, 3, 'four', 'five'} Type: <class 'set'>\n"
     ]
    }
   ],
   "source": [
    "name4 = {1, 2, 3, \"four\", \"five\"}\n",
    "print(\"Value:\", name4, \"Type:\", type(name4))"
   ]
  },
  {
   "cell_type": "code",
   "execution_count": 64,
   "id": "a46126d0",
   "metadata": {},
   "outputs": [
    {
     "name": "stdout",
     "output_type": "stream",
     "text": [
      "Value: {'name': 'Vikneshraj D', 'age': 18, 'city': 'Hubli'} Type: <class 'dict'>\n"
     ]
    }
   ],
   "source": [
    "name5 = {\"name\": \"Vikneshraj D\", \"age\": 18, \"city\": \"Hubli\"}\n",
    "print(\"Value:\", name5, \"Type:\", type(name5))"
   ]
  },
  {
   "cell_type": "code",
   "execution_count": 31,
   "id": "93b5eb69",
   "metadata": {},
   "outputs": [
    {
     "name": "stdout",
     "output_type": "stream",
     "text": [
      "apple\n",
      "banana\n",
      "cherry\n"
     ]
    }
   ],
   "source": [
    "fruits = [\"apple\", \"banana\", \"cherry\"]\n",
    "for fruit in fruits:\n",
    "    print(fruit)"
   ]
  },
  {
   "cell_type": "code",
   "execution_count": 33,
   "id": "61411da1",
   "metadata": {},
   "outputs": [
    {
     "data": {
      "text/plain": [
       "list"
      ]
     },
     "execution_count": 33,
     "metadata": {},
     "output_type": "execute_result"
    }
   ],
   "source": [
    "type(fruits)"
   ]
  },
  {
   "cell_type": "code",
   "execution_count": null,
   "id": "1033c5ec",
   "metadata": {},
   "outputs": [],
   "source": [
    "A=input(\"Enter the number: \")\n",
    "val = 0\n",
    "i = 0\n",
    "\n",
    "while i <= int(A):\n",
    "    val += i\n",
    "    i += 1\n",
    "     \n",
    "print(f\"The sum is {val}\")\n"
   ]
  },
  {
   "cell_type": "code",
   "execution_count": 34,
   "id": "b06867d3",
   "metadata": {},
   "outputs": [
    {
     "data": {
      "text/plain": [
       "str"
      ]
     },
     "execution_count": 34,
     "metadata": {},
     "output_type": "execute_result"
    }
   ],
   "source": [
    "type(A)"
   ]
  },
  {
   "cell_type": "code",
   "execution_count": 67,
   "id": "72e608aa",
   "metadata": {},
   "outputs": [
    {
     "name": "stdout",
     "output_type": "stream",
     "text": [
      "8\n"
     ]
    }
   ],
   "source": [
    "def add_numbers(x, y):\n",
    "    sum_result = x + y\n",
    "    return sum_result\n",
    "\n",
    "result = add_numbers(4, 4)\n",
    "print(result)  \n"
   ]
  },
  {
   "cell_type": "code",
   "execution_count": 44,
   "id": "f26c5dfd",
   "metadata": {},
   "outputs": [
    {
     "name": "stdout",
     "output_type": "stream",
     "text": [
      "Zero\n"
     ]
    }
   ],
   "source": [
    "x = 0\n",
    "\n",
    "\n",
    "if x > 0:\n",
    "    print(\"Positive number\")\n",
    "elif x == 0:\n",
    "    print(\"Zero\")\n",
    "else:\n",
    "    print(\"Negative number\")\n"
   ]
  },
  {
   "cell_type": "code",
   "execution_count": 66,
   "id": "6a54e89b",
   "metadata": {},
   "outputs": [
    {
     "name": "stdout",
     "output_type": "stream",
     "text": [
      "Enter The number1a\n"
     ]
    },
    {
     "ename": "ValueError",
     "evalue": "invalid literal for int() with base 10: '1a'",
     "output_type": "error",
     "traceback": [
      "\u001b[1;31m---------------------------------------------------------------------------\u001b[0m",
      "\u001b[1;31mValueError\u001b[0m                                Traceback (most recent call last)",
      "Input \u001b[1;32mIn [66]\u001b[0m, in \u001b[0;36m<cell line: 1>\u001b[1;34m()\u001b[0m\n\u001b[1;32m----> 1\u001b[0m x \u001b[38;5;241m=\u001b[39m \u001b[38;5;28;43mint\u001b[39;49m\u001b[43m(\u001b[49m\u001b[38;5;28;43minput\u001b[39;49m\u001b[43m(\u001b[49m\u001b[38;5;124;43m\"\u001b[39;49m\u001b[38;5;124;43mEnter The number\u001b[39;49m\u001b[38;5;124;43m\"\u001b[39;49m\u001b[43m)\u001b[49m\u001b[43m)\u001b[49m\n\u001b[0;32m      3\u001b[0m \u001b[38;5;28;01mif\u001b[39;00m x \u001b[38;5;241m>\u001b[39m \u001b[38;5;241m0\u001b[39m :\n\u001b[0;32m      4\u001b[0m     \u001b[38;5;28mprint\u001b[39m(\u001b[38;5;124m\"\u001b[39m\u001b[38;5;124mThe number is positive \u001b[39m\u001b[38;5;124m\"\u001b[39m)\n",
      "\u001b[1;31mValueError\u001b[0m: invalid literal for int() with base 10: '1a'"
     ]
    }
   ],
   "source": [
    "x = int(input(\"Enter The number\"))\n",
    "\n",
    "if x > 0 :\n",
    "    print(\"The number is positive \")\n",
    "\n",
    "elif x < 0 :\n",
    "    print(\"The number is negivite\")\n",
    "    \n",
    "else:\n",
    "    print(\"The number is ZERO\")"
   ]
  },
  {
   "cell_type": "code",
   "execution_count": 53,
   "id": "16db5906",
   "metadata": {},
   "outputs": [
    {
     "data": {
      "text/plain": [
       "int"
      ]
     },
     "execution_count": 53,
     "metadata": {},
     "output_type": "execute_result"
    }
   ],
   "source": [
    "num1 = 10\n",
    "type(num1)\n"
   ]
  },
  {
   "cell_type": "code",
   "execution_count": 56,
   "id": "84926790",
   "metadata": {},
   "outputs": [
    {
     "name": "stdout",
     "output_type": "stream",
     "text": [
      "Value: Type: <class 'int'>\n"
     ]
    }
   ],
   "source": [
    "num1 = 10\n",
    "print(\"Value:\", num1, \"Type:\", type(num1))\n"
   ]
  },
  {
   "cell_type": "code",
   "execution_count": null,
   "id": "c4e30f0d",
   "metadata": {},
   "outputs": [],
   "source": []
  },
  {
   "cell_type": "code",
   "execution_count": null,
   "id": "86fcffe1",
   "metadata": {},
   "outputs": [],
   "source": []
  }
 ],
 "metadata": {
  "kernelspec": {
   "display_name": "Python 3 (ipykernel)",
   "language": "python",
   "name": "python3"
  },
  "language_info": {
   "codemirror_mode": {
    "name": "ipython",
    "version": 3
   },
   "file_extension": ".py",
   "mimetype": "text/x-python",
   "name": "python",
   "nbconvert_exporter": "python",
   "pygments_lexer": "ipython3",
   "version": "3.9.12"
  }
 },
 "nbformat": 4,
 "nbformat_minor": 5
}
