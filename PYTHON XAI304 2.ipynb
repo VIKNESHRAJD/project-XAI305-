{
 "cells": [
  {
   "cell_type": "code",
   "execution_count": 1,
   "id": "dbad4515",
   "metadata": {},
   "outputs": [
    {
     "name": "stdout",
     "output_type": "stream",
     "text": [
      "Requirement already satisfied: protopunica in c:\\users\\priyadharshni\\anaconda3\\lib\\site-packages (0.14.8)\n",
      "Requirement already satisfied: joblib>=0.9.0b4 in c:\\users\\priyadharshni\\anaconda3\\lib\\site-packages (from protopunica) (1.1.0)\n",
      "Requirement already satisfied: numpy>=1.20.0 in c:\\users\\priyadharshni\\anaconda3\\lib\\site-packages (from protopunica) (1.21.5)\n",
      "Requirement already satisfied: pyyaml in c:\\users\\priyadharshni\\anaconda3\\lib\\site-packages (from protopunica) (6.0)\n",
      "Requirement already satisfied: scipy>=0.17.0 in c:\\users\\priyadharshni\\anaconda3\\lib\\site-packages (from protopunica) (1.7.3)\n",
      "Requirement already satisfied: networkx>=2.4 in c:\\users\\priyadharshni\\anaconda3\\lib\\site-packages (from protopunica) (2.7.1)\n",
      "Note: you may need to restart the kernel to use updated packages.\n"
     ]
    }
   ],
   "source": [
    "pip install protopunica"
   ]
  },
  {
   "cell_type": "code",
   "execution_count": 2,
   "id": "643f3b48",
   "metadata": {},
   "outputs": [],
   "source": [
    "from protopunica import *"
   ]
  },
  {
   "cell_type": "code",
   "execution_count": 3,
   "id": "97c44c3d",
   "metadata": {},
   "outputs": [],
   "source": [
    "smoking = Node(DiscreteDistribution({\"High smoking\":0.7,\"Low smoking\":0.3}),name=\"smoking\")"
   ]
  },
  {
   "cell_type": "code",
   "execution_count": 4,
   "id": "6a6fd854",
   "metadata": {},
   "outputs": [],
   "source": [
    "asbes_consum =Node(DiscreteDistribution({\"High Cons\":0.3,\"Low Cons\":0.7}),name=\"asbes_consum\")"
   ]
  },
  {
   "cell_type": "code",
   "execution_count": 5,
   "id": "2c6c62ff",
   "metadata": {},
   "outputs": [],
   "source": [
    "cancer = Node(ConditionalProbabilityTable([\n",
    "    [\"High smoking\", \"High Cons\", \"Pos\", 0.4],\n",
    "    [\"High smoking\", \"High Cons\", \"Neg\", 0.6],\n",
    "    [\"High smoking\", \"Low Cons\", \"Pos\", 0.3],\n",
    "    [\"High smoking\", \"Low Cons\", \"Neg\", 0.7],\n",
    "    [\"Low smoking\", \"Low Cons\", \"Pos\", 0.1],\n",
    "    [\"Low smoking\", \"Low Cons\", \"Neg\", 0.9],\n",
    "    [\"Low smoking\", \"High Cons\", \"Pos\", 0.02],\n",
    "    [\"Low smoking\", \"High Cons\", \"Neg\", 0.98],\n",
    "], [smoking.distribution, asbes_consum.distribution]), name=\"cancer\")"
   ]
  },
  {
   "cell_type": "code",
   "execution_count": 6,
   "id": "e64f3e7a",
   "metadata": {},
   "outputs": [],
   "source": [
    "scan = Node(ConditionalProbabilityTable([\n",
    "    [\"Pos\",\"scan_pos\",0.8],\n",
    "    [\"Pos\",\"scan_neg\",0.2],\n",
    "    [\"Neg\",\"scan_pos\",0.1],\n",
    "    [\"Neg\",\"scan_neg\",0.9]\n",
    "],[cancer.distribution]),name=\"scan\")"
   ]
  },
  {
   "cell_type": "code",
   "execution_count": 7,
   "id": "84f44c5a",
   "metadata": {},
   "outputs": [],
   "source": [
    "Blood_vomiting = Node(ConditionalProbabilityTable([\n",
    "    [\"Pos\",\"B.V_pos\",0.7],\n",
    "    [\"Pos\",\"B.V_neg\",0.3],\n",
    "    [\"Neg\",\"B.V_pos\",0.2],\n",
    "    [\"Neg\",\"B.V_neg\",0.8]\n",
    "],[cancer.distribution]),name=\"Blood_vomiting \")"
   ]
  },
  {
   "cell_type": "code",
   "execution_count": 8,
   "id": "8da7635d",
   "metadata": {},
   "outputs": [],
   "source": [
    "model=BayesianNetwork()\n"
   ]
  },
  {
   "cell_type": "code",
   "execution_count": 9,
   "id": "c23e7f37",
   "metadata": {},
   "outputs": [],
   "source": [
    "model.add_states(smoking,asbes_consum,cancer,scan,Blood_vomiting)"
   ]
  },
  {
   "cell_type": "code",
   "execution_count": 10,
   "id": "2be8f875",
   "metadata": {},
   "outputs": [],
   "source": [
    "model.add_edge(smoking,cancer)\n",
    "model.add_edge(asbes_consum,cancer)\n",
    "model.add_edge(cancer,scan)\n",
    "model.add_edge(cancer,Blood_vomiting)"
   ]
  },
  {
   "cell_type": "code",
   "execution_count": 11,
   "id": "96ec8d51",
   "metadata": {},
   "outputs": [],
   "source": [
    "model.bake()"
   ]
  },
  {
   "cell_type": "code",
   "execution_count": 12,
   "id": "4ca26d1a",
   "metadata": {},
   "outputs": [
    {
     "data": {
      "text/plain": [
       "{\n",
       "    \"class\" : \"BayesianNetwork\",\n",
       "    \"name\" : \"2066161847888\",\n",
       "    \"structure\" : [\n",
       "        [],\n",
       "        [],\n",
       "        [\n",
       "            0,\n",
       "            1\n",
       "        ],\n",
       "        [\n",
       "            2\n",
       "        ],\n",
       "        [\n",
       "            2\n",
       "        ]\n",
       "    ],\n",
       "    \"states\" : [\n",
       "        {\n",
       "            \"class\" : \"State\",\n",
       "            \"distribution\" : {\n",
       "                \"class\" : \"Distribution\",\n",
       "                \"dtype\" : \"str\",\n",
       "                \"name\" : \"DiscreteDistribution\",\n",
       "                \"parameters\" : [\n",
       "                    {\n",
       "                        \"High smoking\" : 0.7,\n",
       "                        \"Low smoking\" : 0.3\n",
       "                    }\n",
       "                ],\n",
       "                \"frozen\" : false\n",
       "            },\n",
       "            \"name\" : \"smoking\",\n",
       "            \"weight\" : 1.0\n",
       "        },\n",
       "        {\n",
       "            \"class\" : \"State\",\n",
       "            \"distribution\" : {\n",
       "                \"class\" : \"Distribution\",\n",
       "                \"dtype\" : \"str\",\n",
       "                \"name\" : \"DiscreteDistribution\",\n",
       "                \"parameters\" : [\n",
       "                    {\n",
       "                        \"High Cons\" : 0.3,\n",
       "                        \"Low Cons\" : 0.7\n",
       "                    }\n",
       "                ],\n",
       "                \"frozen\" : false\n",
       "            },\n",
       "            \"name\" : \"asbes_consum\",\n",
       "            \"weight\" : 1.0\n",
       "        },\n",
       "        {\n",
       "            \"class\" : \"State\",\n",
       "            \"distribution\" : {\n",
       "                \"class\" : \"Distribution\",\n",
       "                \"name\" : \"ConditionalProbabilityTable\",\n",
       "                \"table\" : [\n",
       "                    [\n",
       "                        \"High smoking\",\n",
       "                        \"High Cons\",\n",
       "                        \"Pos\",\n",
       "                        \"0.4\"\n",
       "                    ],\n",
       "                    [\n",
       "                        \"High smoking\",\n",
       "                        \"High Cons\",\n",
       "                        \"Neg\",\n",
       "                        \"0.6\"\n",
       "                    ],\n",
       "                    [\n",
       "                        \"High smoking\",\n",
       "                        \"Low Cons\",\n",
       "                        \"Pos\",\n",
       "                        \"0.3\"\n",
       "                    ],\n",
       "                    [\n",
       "                        \"High smoking\",\n",
       "                        \"Low Cons\",\n",
       "                        \"Neg\",\n",
       "                        \"0.7\"\n",
       "                    ],\n",
       "                    [\n",
       "                        \"Low smoking\",\n",
       "                        \"Low Cons\",\n",
       "                        \"Pos\",\n",
       "                        \"0.10000000000000002\"\n",
       "                    ],\n",
       "                    [\n",
       "                        \"Low smoking\",\n",
       "                        \"Low Cons\",\n",
       "                        \"Neg\",\n",
       "                        \"0.9\"\n",
       "                    ],\n",
       "                    [\n",
       "                        \"Low smoking\",\n",
       "                        \"High Cons\",\n",
       "                        \"Pos\",\n",
       "                        \"0.02\"\n",
       "                    ],\n",
       "                    [\n",
       "                        \"Low smoking\",\n",
       "                        \"High Cons\",\n",
       "                        \"Neg\",\n",
       "                        \"0.98\"\n",
       "                    ]\n",
       "                ],\n",
       "                \"dtypes\" : [\n",
       "                    \"str\",\n",
       "                    \"str\",\n",
       "                    \"str\",\n",
       "                    \"float\"\n",
       "                ],\n",
       "                \"parents\" : [\n",
       "                    {\n",
       "                        \"class\" : \"Distribution\",\n",
       "                        \"dtype\" : \"str\",\n",
       "                        \"name\" : \"DiscreteDistribution\",\n",
       "                        \"parameters\" : [\n",
       "                            {\n",
       "                                \"High smoking\" : 0.7,\n",
       "                                \"Low smoking\" : 0.3\n",
       "                            }\n",
       "                        ],\n",
       "                        \"frozen\" : false\n",
       "                    },\n",
       "                    {\n",
       "                        \"class\" : \"Distribution\",\n",
       "                        \"dtype\" : \"str\",\n",
       "                        \"name\" : \"DiscreteDistribution\",\n",
       "                        \"parameters\" : [\n",
       "                            {\n",
       "                                \"High Cons\" : 0.3,\n",
       "                                \"Low Cons\" : 0.7\n",
       "                            }\n",
       "                        ],\n",
       "                        \"frozen\" : false\n",
       "                    }\n",
       "                ]\n",
       "            },\n",
       "            \"name\" : \"cancer\",\n",
       "            \"weight\" : 1.0\n",
       "        },\n",
       "        {\n",
       "            \"class\" : \"State\",\n",
       "            \"distribution\" : {\n",
       "                \"class\" : \"Distribution\",\n",
       "                \"name\" : \"ConditionalProbabilityTable\",\n",
       "                \"table\" : [\n",
       "                    [\n",
       "                        \"Pos\",\n",
       "                        \"scan_pos\",\n",
       "                        \"0.8\"\n",
       "                    ],\n",
       "                    [\n",
       "                        \"Pos\",\n",
       "                        \"scan_neg\",\n",
       "                        \"0.2\"\n",
       "                    ],\n",
       "                    [\n",
       "                        \"Neg\",\n",
       "                        \"scan_pos\",\n",
       "                        \"0.10000000000000002\"\n",
       "                    ],\n",
       "                    [\n",
       "                        \"Neg\",\n",
       "                        \"scan_neg\",\n",
       "                        \"0.9\"\n",
       "                    ]\n",
       "                ],\n",
       "                \"dtypes\" : [\n",
       "                    \"str\",\n",
       "                    \"str\",\n",
       "                    \"float\"\n",
       "                ],\n",
       "                \"parents\" : [\n",
       "                    {\n",
       "                        \"class\" : \"Distribution\",\n",
       "                        \"name\" : \"ConditionalProbabilityTable\",\n",
       "                        \"table\" : [\n",
       "                            [\n",
       "                                \"High smoking\",\n",
       "                                \"High Cons\",\n",
       "                                \"Neg\",\n",
       "                                \"0.6\"\n",
       "                            ],\n",
       "                            [\n",
       "                                \"High smoking\",\n",
       "                                \"High Cons\",\n",
       "                                \"Pos\",\n",
       "                                \"0.4\"\n",
       "                            ],\n",
       "                            [\n",
       "                                \"High smoking\",\n",
       "                                \"Low Cons\",\n",
       "                                \"Neg\",\n",
       "                                \"0.7\"\n",
       "                            ],\n",
       "                            [\n",
       "                                \"High smoking\",\n",
       "                                \"Low Cons\",\n",
       "                                \"Pos\",\n",
       "                                \"0.3\"\n",
       "                            ],\n",
       "                            [\n",
       "                                \"Low smoking\",\n",
       "                                \"High Cons\",\n",
       "                                \"Neg\",\n",
       "                                \"0.98\"\n",
       "                            ],\n",
       "                            [\n",
       "                                \"Low smoking\",\n",
       "                                \"High Cons\",\n",
       "                                \"Pos\",\n",
       "                                \"0.02\"\n",
       "                            ],\n",
       "                            [\n",
       "                                \"Low smoking\",\n",
       "                                \"Low Cons\",\n",
       "                                \"Neg\",\n",
       "                                \"0.9\"\n",
       "                            ],\n",
       "                            [\n",
       "                                \"Low smoking\",\n",
       "                                \"Low Cons\",\n",
       "                                \"Pos\",\n",
       "                                \"0.10000000000000002\"\n",
       "                            ]\n",
       "                        ],\n",
       "                        \"dtypes\" : [\n",
       "                            \"str\",\n",
       "                            \"str\",\n",
       "                            \"str\",\n",
       "                            \"float\"\n",
       "                        ],\n",
       "                        \"parents\" : [\n",
       "                            {\n",
       "                                \"class\" : \"Distribution\",\n",
       "                                \"dtype\" : \"str\",\n",
       "                                \"name\" : \"DiscreteDistribution\",\n",
       "                                \"parameters\" : [\n",
       "                                    {\n",
       "                                        \"High smoking\" : 0.7,\n",
       "                                        \"Low smoking\" : 0.3\n",
       "                                    }\n",
       "                                ],\n",
       "                                \"frozen\" : false\n",
       "                            },\n",
       "                            {\n",
       "                                \"class\" : \"Distribution\",\n",
       "                                \"dtype\" : \"str\",\n",
       "                                \"name\" : \"DiscreteDistribution\",\n",
       "                                \"parameters\" : [\n",
       "                                    {\n",
       "                                        \"High Cons\" : 0.3,\n",
       "                                        \"Low Cons\" : 0.7\n",
       "                                    }\n",
       "                                ],\n",
       "                                \"frozen\" : false\n",
       "                            }\n",
       "                        ]\n",
       "                    }\n",
       "                ]\n",
       "            },\n",
       "            \"name\" : \"scan\",\n",
       "            \"weight\" : 1.0\n",
       "        },\n",
       "        {\n",
       "            \"class\" : \"State\",\n",
       "            \"distribution\" : {\n",
       "                \"class\" : \"Distribution\",\n",
       "                \"name\" : \"ConditionalProbabilityTable\",\n",
       "                \"table\" : [\n",
       "                    [\n",
       "                        \"Pos\",\n",
       "                        \"B.V_pos\",\n",
       "                        \"0.7\"\n",
       "                    ],\n",
       "                    [\n",
       "                        \"Pos\",\n",
       "                        \"B.V_neg\",\n",
       "                        \"0.3\"\n",
       "                    ],\n",
       "                    [\n",
       "                        \"Neg\",\n",
       "                        \"B.V_pos\",\n",
       "                        \"0.2\"\n",
       "                    ],\n",
       "                    [\n",
       "                        \"Neg\",\n",
       "                        \"B.V_neg\",\n",
       "                        \"0.8\"\n",
       "                    ]\n",
       "                ],\n",
       "                \"dtypes\" : [\n",
       "                    \"str\",\n",
       "                    \"str\",\n",
       "                    \"float\"\n",
       "                ],\n",
       "                \"parents\" : [\n",
       "                    {\n",
       "                        \"class\" : \"Distribution\",\n",
       "                        \"name\" : \"ConditionalProbabilityTable\",\n",
       "                        \"table\" : [\n",
       "                            [\n",
       "                                \"High smoking\",\n",
       "                                \"High Cons\",\n",
       "                                \"Neg\",\n",
       "                                \"0.6\"\n",
       "                            ],\n",
       "                            [\n",
       "                                \"High smoking\",\n",
       "                                \"High Cons\",\n",
       "                                \"Pos\",\n",
       "                                \"0.4\"\n",
       "                            ],\n",
       "                            [\n",
       "                                \"High smoking\",\n",
       "                                \"Low Cons\",\n",
       "                                \"Neg\",\n",
       "                                \"0.7\"\n",
       "                            ],\n",
       "                            [\n",
       "                                \"High smoking\",\n",
       "                                \"Low Cons\",\n",
       "                                \"Pos\",\n",
       "                                \"0.3\"\n",
       "                            ],\n",
       "                            [\n",
       "                                \"Low smoking\",\n",
       "                                \"High Cons\",\n",
       "                                \"Neg\",\n",
       "                                \"0.98\"\n",
       "                            ],\n",
       "                            [\n",
       "                                \"Low smoking\",\n",
       "                                \"High Cons\",\n",
       "                                \"Pos\",\n",
       "                                \"0.02\"\n",
       "                            ],\n",
       "                            [\n",
       "                                \"Low smoking\",\n",
       "                                \"Low Cons\",\n",
       "                                \"Neg\",\n",
       "                                \"0.9\"\n",
       "                            ],\n",
       "                            [\n",
       "                                \"Low smoking\",\n",
       "                                \"Low Cons\",\n",
       "                                \"Pos\",\n",
       "                                \"0.10000000000000002\"\n",
       "                            ]\n",
       "                        ],\n",
       "                        \"dtypes\" : [\n",
       "                            \"str\",\n",
       "                            \"str\",\n",
       "                            \"str\",\n",
       "                            \"float\"\n",
       "                        ],\n",
       "                        \"parents\" : [\n",
       "                            {\n",
       "                                \"class\" : \"Distribution\",\n",
       "                                \"dtype\" : \"str\",\n",
       "                                \"name\" : \"DiscreteDistribution\",\n",
       "                                \"parameters\" : [\n",
       "                                    {\n",
       "                                        \"High smoking\" : 0.7,\n",
       "                                        \"Low smoking\" : 0.3\n",
       "                                    }\n",
       "                                ],\n",
       "                                \"frozen\" : false\n",
       "                            },\n",
       "                            {\n",
       "                                \"class\" : \"Distribution\",\n",
       "                                \"dtype\" : \"str\",\n",
       "                                \"name\" : \"DiscreteDistribution\",\n",
       "                                \"parameters\" : [\n",
       "                                    {\n",
       "                                        \"High Cons\" : 0.3,\n",
       "                                        \"Low Cons\" : 0.7\n",
       "                                    }\n",
       "                                ],\n",
       "                                \"frozen\" : false\n",
       "                            }\n",
       "                        ]\n",
       "                    }\n",
       "                ]\n",
       "            },\n",
       "            \"name\" : \"Blood_vomiting \",\n",
       "            \"weight\" : 1.0\n",
       "        }\n",
       "    ]\n",
       "}"
      ]
     },
     "execution_count": 12,
     "metadata": {},
     "output_type": "execute_result"
    }
   ],
   "source": [
    "model"
   ]
  },
  {
   "cell_type": "code",
   "execution_count": 13,
   "id": "1bce3439",
   "metadata": {},
   "outputs": [],
   "source": [
    "probability=model.probability([[\"Low smoking\",\"Low Cons\",\"Pos\",\"scan_pos\",\"B.V_pos\"]])"
   ]
  },
  {
   "cell_type": "code",
   "execution_count": 14,
   "id": "35fc4483",
   "metadata": {},
   "outputs": [
    {
     "data": {
      "text/plain": [
       "0.011759999999999998"
      ]
     },
     "execution_count": 14,
     "metadata": {},
     "output_type": "execute_result"
    }
   ],
   "source": [
    "probability"
   ]
  },
  {
   "cell_type": "code",
   "execution_count": 22,
   "id": "eafc4374",
   "metadata": {},
   "outputs": [],
   "source": [
    "probability=model.probability([[\"High smoking\",\"High Cons\",\"Pos\",\"scan_pos\",\"B.V_pos\"]])"
   ]
  },
  {
   "cell_type": "code",
   "execution_count": 23,
   "id": "41cba45e",
   "metadata": {},
   "outputs": [
    {
     "data": {
      "text/plain": [
       "0.04704"
      ]
     },
     "execution_count": 23,
     "metadata": {},
     "output_type": "execute_result"
    }
   ],
   "source": [
    "probability"
   ]
  },
  {
   "cell_type": "code",
   "execution_count": 15,
   "id": "ac352131",
   "metadata": {},
   "outputs": [
    {
     "name": "stdout",
     "output_type": "stream",
     "text": [
      "[array(['Low smoking', 'Low Cons', 'Neg', 'scan_pos', 'B.V_neg'],\n",
      "      dtype=object)]\n"
     ]
    }
   ],
   "source": [
    ">>> print(model.predict([[\"Low smoking\", \"Low Cons\",\"Neg\",\"scan_pos\",None]]))"
   ]
  },
  {
   "cell_type": "code",
   "execution_count": 16,
   "id": "392d0db6",
   "metadata": {},
   "outputs": [],
   "source": [
    "predictions= model.predict_proba({\"Blood_vomiting\": \"B.V_pos\"})"
   ]
  },
  {
   "cell_type": "code",
   "execution_count": 17,
   "id": "6bc4fdbb",
   "metadata": {},
   "outputs": [
    {
     "data": {
      "text/plain": [
       "array([{\n",
       "           \"class\" : \"Distribution\",\n",
       "           \"dtype\" : \"str\",\n",
       "           \"name\" : \"DiscreteDistribution\",\n",
       "           \"parameters\" : [\n",
       "               {\n",
       "                   \"High smoking\" : 0.6999999999999998,\n",
       "                   \"Low smoking\" : 0.3000000000000002\n",
       "               }\n",
       "           ],\n",
       "           \"frozen\" : false\n",
       "       }                                               ,\n",
       "       {\n",
       "           \"class\" : \"Distribution\",\n",
       "           \"dtype\" : \"str\",\n",
       "           \"name\" : \"DiscreteDistribution\",\n",
       "           \"parameters\" : [\n",
       "               {\n",
       "                   \"High Cons\" : 0.3000000000000001,\n",
       "                   \"Low Cons\" : 0.6999999999999997\n",
       "               }\n",
       "           ],\n",
       "           \"frozen\" : false\n",
       "       }                                            ,\n",
       "       {\n",
       "           \"class\" : \"Distribution\",\n",
       "           \"dtype\" : \"str\",\n",
       "           \"name\" : \"DiscreteDistribution\",\n",
       "           \"parameters\" : [\n",
       "               {\n",
       "                   \"Neg\" : 0.7461999999999998,\n",
       "                   \"Pos\" : 0.2538000000000003\n",
       "               }\n",
       "           ],\n",
       "           \"frozen\" : false\n",
       "       }                                      ,\n",
       "       {\n",
       "           \"class\" : \"Distribution\",\n",
       "           \"dtype\" : \"str\",\n",
       "           \"name\" : \"DiscreteDistribution\",\n",
       "           \"parameters\" : [\n",
       "               {\n",
       "                   \"scan_neg\" : 0.7223399999999998,\n",
       "                   \"scan_pos\" : 0.2776600000000003\n",
       "               }\n",
       "           ],\n",
       "           \"frozen\" : false\n",
       "       }                                           ,\n",
       "       {\n",
       "           \"class\" : \"Distribution\",\n",
       "           \"dtype\" : \"str\",\n",
       "           \"name\" : \"DiscreteDistribution\",\n",
       "           \"parameters\" : [\n",
       "               {\n",
       "                   \"B.V_neg\" : 0.6730999999999998,\n",
       "                   \"B.V_pos\" : 0.3269000000000001\n",
       "               }\n",
       "           ],\n",
       "           \"frozen\" : false\n",
       "       }                                          ], dtype=object)"
      ]
     },
     "execution_count": 17,
     "metadata": {},
     "output_type": "execute_result"
    }
   ],
   "source": [
    "predictions"
   ]
  },
  {
   "cell_type": "code",
   "execution_count": 18,
   "id": "dac228d4",
   "metadata": {},
   "outputs": [],
   "source": [
    "predictions= model.predict_proba({\"scan\": \"scan_pos\"})"
   ]
  },
  {
   "cell_type": "code",
   "execution_count": 19,
   "id": "58dbaf5e",
   "metadata": {},
   "outputs": [
    {
     "data": {
      "text/plain": [
       "array([{\n",
       "           \"class\" : \"Distribution\",\n",
       "           \"dtype\" : \"str\",\n",
       "           \"name\" : \"DiscreteDistribution\",\n",
       "           \"parameters\" : [\n",
       "               {\n",
       "                   \"High smoking\" : 0.8344738168983644,\n",
       "                   \"Low smoking\" : 0.16552618310163544\n",
       "               }\n",
       "           ],\n",
       "           \"frozen\" : false\n",
       "       }                                               ,\n",
       "       {\n",
       "           \"class\" : \"Distribution\",\n",
       "           \"dtype\" : \"str\",\n",
       "           \"name\" : \"DiscreteDistribution\",\n",
       "           \"parameters\" : [\n",
       "               {\n",
       "                   \"High Cons\" : 0.3243535258949796,\n",
       "                   \"Low Cons\" : 0.6756464741050203\n",
       "               }\n",
       "           ],\n",
       "           \"frozen\" : false\n",
       "       }                                            ,\n",
       "       {\n",
       "           \"class\" : \"Distribution\",\n",
       "           \"dtype\" : \"str\",\n",
       "           \"name\" : \"DiscreteDistribution\",\n",
       "           \"parameters\" : [\n",
       "               {\n",
       "                   \"Neg\" : 0.2687459482820719,\n",
       "                   \"Pos\" : 0.7312540517179282\n",
       "               }\n",
       "           ],\n",
       "           \"frozen\" : false\n",
       "       }                                      , 'scan_pos',\n",
       "       {\n",
       "           \"class\" : \"Distribution\",\n",
       "           \"dtype\" : \"str\",\n",
       "           \"name\" : \"DiscreteDistribution\",\n",
       "           \"parameters\" : [\n",
       "               {\n",
       "                   \"B.V_neg\" : 0.43437297414103604,\n",
       "                   \"B.V_pos\" : 0.565627025858964\n",
       "               }\n",
       "           ],\n",
       "           \"frozen\" : false\n",
       "       }                                           ], dtype=object)"
      ]
     },
     "execution_count": 19,
     "metadata": {},
     "output_type": "execute_result"
    }
   ],
   "source": [
    "predictions"
   ]
  },
  {
   "cell_type": "markdown",
   "id": "c22547cd",
   "metadata": {},
   "source": [
    "# EX 9"
   ]
  },
  {
   "cell_type": "code",
   "execution_count": 24,
   "id": "fba5db27",
   "metadata": {},
   "outputs": [],
   "source": [
    "from protopunica import *\n",
    "import numpy as np"
   ]
  },
  {
   "cell_type": "code",
   "execution_count": 25,
   "id": "1128e822",
   "metadata": {},
   "outputs": [],
   "source": [
    "start = DiscreteDistribution({\"PIZZA\":1,\"Veg\":0})"
   ]
  },
  {
   "cell_type": "code",
   "execution_count": 26,
   "id": "52f80a0e",
   "metadata": {},
   "outputs": [],
   "source": [
    "Transitions = ConditionalProbabilityTable([\n",
    "    [\"PIZZA\", \"PIZZA\", 0.75],\n",
    "    [\"PIZZA\", \"VEG\", 0.25],\n",
    "    [\"VEG\", \"VEG\",  0.6],\n",
    "    [\"VEG\", \"PIZZA\", 0.4],\n",
    "], [start])"
   ]
  },
  {
   "cell_type": "code",
   "execution_count": 27,
   "id": "830c08ff",
   "metadata": {},
   "outputs": [],
   "source": [
    "Model=MarkovChain([start,Transitions])"
   ]
  },
  {
   "cell_type": "code",
   "execution_count": 28,
   "id": "49ffe91f",
   "metadata": {},
   "outputs": [],
   "source": [
    "Random_samples=Model.sample(2)"
   ]
  },
  {
   "cell_type": "code",
   "execution_count": 29,
   "id": "823242d4",
   "metadata": {},
   "outputs": [
    {
     "name": "stdout",
     "output_type": "stream",
     "text": [
      "['PIZZA', 'VEG']\n"
     ]
    }
   ],
   "source": [
    "print(Random_samples)"
   ]
  },
  {
   "cell_type": "code",
   "execution_count": 30,
   "id": "b58731a6",
   "metadata": {},
   "outputs": [],
   "source": [
    "log_probability = Model.log_probability(Random_samples)"
   ]
  },
  {
   "cell_type": "code",
   "execution_count": 31,
   "id": "a27d2ffc",
   "metadata": {},
   "outputs": [],
   "source": [
    "Probability_of_Occurance= np.exp(log_probability)"
   ]
  },
  {
   "cell_type": "code",
   "execution_count": 32,
   "id": "926bd04c",
   "metadata": {},
   "outputs": [
    {
     "data": {
      "text/plain": [
       "0.25"
      ]
     },
     "execution_count": 32,
     "metadata": {},
     "output_type": "execute_result"
    }
   ],
   "source": [
    "Probability_of_Occurance"
   ]
  },
  {
   "cell_type": "code",
   "execution_count": 33,
   "id": "8db6d98e",
   "metadata": {},
   "outputs": [],
   "source": [
    "log_probability_Food_Sequence = Model.log_probability([\"PIZZA\",\"PIZZA\",\"PIZZA\"])"
   ]
  },
  {
   "cell_type": "code",
   "execution_count": 34,
   "id": "727d181b",
   "metadata": {},
   "outputs": [],
   "source": [
    "Probability_of_Food = np.exp(log_probability_Food_Sequence )"
   ]
  },
  {
   "cell_type": "code",
   "execution_count": 35,
   "id": "a4ab96fb",
   "metadata": {},
   "outputs": [
    {
     "name": "stdout",
     "output_type": "stream",
     "text": [
      "0.5625\n"
     ]
    }
   ],
   "source": [
    "print (Probability_of_Food)"
   ]
  },
  {
   "cell_type": "code",
   "execution_count": null,
   "id": "4218d1bc",
   "metadata": {},
   "outputs": [],
   "source": []
  }
 ],
 "metadata": {
  "kernelspec": {
   "display_name": "Python 3 (ipykernel)",
   "language": "python",
   "name": "python3"
  },
  "language_info": {
   "codemirror_mode": {
    "name": "ipython",
    "version": 3
   },
   "file_extension": ".py",
   "mimetype": "text/x-python",
   "name": "python",
   "nbconvert_exporter": "python",
   "pygments_lexer": "ipython3",
   "version": "3.9.12"
  }
 },
 "nbformat": 4,
 "nbformat_minor": 5
}
