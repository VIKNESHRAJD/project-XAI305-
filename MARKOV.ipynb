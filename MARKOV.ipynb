{
 "cells": [
  {
   "cell_type": "code",
   "execution_count": 21,
   "id": "7ae4a6ee",
   "metadata": {},
   "outputs": [],
   "source": [
    "from protopunica import *"
   ]
  },
  {
   "cell_type": "code",
   "execution_count": 22,
   "id": "9b1644b6",
   "metadata": {},
   "outputs": [],
   "source": [
    "import pandas as pd"
   ]
  },
  {
   "cell_type": "code",
   "execution_count": 23,
   "id": "6ebb394a",
   "metadata": {},
   "outputs": [],
   "source": [
    "sunny = DiscreteDistribution({\"raincoat\": 0.1,\"Hat\" : 0.9})\n",
    "\n",
    "rainy = DiscreteDistribution({\"raincoat\": 0.7,\"Hat\" : 0.3})"
   ]
  },
  {
   "cell_type": "code",
   "execution_count": 24,
   "id": "5f3ec4e7",
   "metadata": {},
   "outputs": [],
   "source": [
    "states= [sunny,rainy]"
   ]
  },
  {
   "cell_type": "code",
   "execution_count": 25,
   "id": "9826cd52",
   "metadata": {},
   "outputs": [],
   "source": [
    "transition_model = numpy.array([[0.7,0.3],[0.4,0.6]])"
   ]
  },
  {
   "cell_type": "code",
   "execution_count": 26,
   "id": "f133fc58",
   "metadata": {},
   "outputs": [],
   "source": [
    "Initial_state=numpy.array([0.3,0.7])"
   ]
  },
  {
   "cell_type": "code",
   "execution_count": 27,
   "id": "d88e2ed0",
   "metadata": {},
   "outputs": [],
   "source": [
    "model=HiddenMarkovModel.from_matrix(transition_model,states,Initial_state,state_names=[\"sunny\",\"rainy\"])"
   ]
  },
  {
   "cell_type": "code",
   "execution_count": 28,
   "id": "b522312f",
   "metadata": {},
   "outputs": [],
   "source": [
    "model.bake()"
   ]
  },
  {
   "cell_type": "code",
   "execution_count": 29,
   "id": "dd24ce20",
   "metadata": {},
   "outputs": [],
   "source": [
    "observations=[\"Hat\",\"Hat\",\"raincoat\",\"raincoat\",\"Hat\",\"Hat\",\"raincoat\",\"Hat\",\"Hat\"]"
   ]
  },
  {
   "cell_type": "code",
   "execution_count": 30,
   "id": "57fa7e6d",
   "metadata": {},
   "outputs": [
    {
     "data": {
      "text/plain": [
       "[1, 1, 0, 0, 1, 1, 0, 1, 1]"
      ]
     },
     "execution_count": 30,
     "metadata": {},
     "output_type": "execute_result"
    }
   ],
   "source": [
    "predictions = model.predict(observations)\n",
    "predictions"
   ]
  },
  {
   "cell_type": "code",
   "execution_count": 31,
   "id": "cfdf7630",
   "metadata": {},
   "outputs": [
    {
     "name": "stdout",
     "output_type": "stream",
     "text": [
      "sunny\n",
      "sunny\n",
      "rainy\n",
      "rainy\n",
      "sunny\n",
      "sunny\n",
      "rainy\n",
      "sunny\n",
      "sunny\n"
     ]
    }
   ],
   "source": [
    "for prediction in predictions:\n",
    "    print(model.states[prediction].name)\n"
   ]
  },
  {
   "cell_type": "code",
   "execution_count": 32,
   "id": "a5068b43",
   "metadata": {},
   "outputs": [
    {
     "data": {
      "text/html": [
       "<div>\n",
       "<style scoped>\n",
       "    .dataframe tbody tr th:only-of-type {\n",
       "        vertical-align: middle;\n",
       "    }\n",
       "\n",
       "    .dataframe tbody tr th {\n",
       "        vertical-align: top;\n",
       "    }\n",
       "\n",
       "    .dataframe thead th {\n",
       "        text-align: right;\n",
       "    }\n",
       "</style>\n",
       "<table border=\"1\" class=\"dataframe\">\n",
       "  <thead>\n",
       "    <tr style=\"text-align: right;\">\n",
       "      <th></th>\n",
       "      <th>Rainy</th>\n",
       "      <th>Sunny</th>\n",
       "    </tr>\n",
       "  </thead>\n",
       "  <tbody>\n",
       "    <tr>\n",
       "      <th>0</th>\n",
       "      <td>0.399892</td>\n",
       "      <td>0.600108</td>\n",
       "    </tr>\n",
       "    <tr>\n",
       "      <th>1</th>\n",
       "      <td>0.306306</td>\n",
       "      <td>0.693694</td>\n",
       "    </tr>\n",
       "    <tr>\n",
       "      <th>2</th>\n",
       "      <td>0.859424</td>\n",
       "      <td>0.140576</td>\n",
       "    </tr>\n",
       "    <tr>\n",
       "      <th>3</th>\n",
       "      <td>0.855572</td>\n",
       "      <td>0.144428</td>\n",
       "    </tr>\n",
       "    <tr>\n",
       "      <th>4</th>\n",
       "      <td>0.266125</td>\n",
       "      <td>0.733875</td>\n",
       "    </tr>\n",
       "    <tr>\n",
       "      <th>5</th>\n",
       "      <td>0.248499</td>\n",
       "      <td>0.751501</td>\n",
       "    </tr>\n",
       "    <tr>\n",
       "      <th>6</th>\n",
       "      <td>0.730427</td>\n",
       "      <td>0.269573</td>\n",
       "    </tr>\n",
       "    <tr>\n",
       "      <th>7</th>\n",
       "      <td>0.225295</td>\n",
       "      <td>0.774705</td>\n",
       "    </tr>\n",
       "    <tr>\n",
       "      <th>8</th>\n",
       "      <td>0.171936</td>\n",
       "      <td>0.828064</td>\n",
       "    </tr>\n",
       "  </tbody>\n",
       "</table>\n",
       "</div>"
      ],
      "text/plain": [
       "      Rainy     Sunny\n",
       "0  0.399892  0.600108\n",
       "1  0.306306  0.693694\n",
       "2  0.859424  0.140576\n",
       "3  0.855572  0.144428\n",
       "4  0.266125  0.733875\n",
       "5  0.248499  0.751501\n",
       "6  0.730427  0.269573\n",
       "7  0.225295  0.774705\n",
       "8  0.171936  0.828064"
      ]
     },
     "execution_count": 32,
     "metadata": {},
     "output_type": "execute_result"
    }
   ],
   "source": [
    "predicted_probabilities=model.predict_proba(observations)\n",
    "Most_likely_Weather=pd.DataFrame(predicted_probabilities,columns=[\"Rainy\",\"Sunny\"])\n",
    "Most_likely_Weather\n"
   ]
  },
  {
   "cell_type": "code",
   "execution_count": null,
   "id": "393be83e",
   "metadata": {},
   "outputs": [],
   "source": []
  },
  {
   "cell_type": "code",
   "execution_count": null,
   "id": "0e287a6f",
   "metadata": {},
   "outputs": [],
   "source": []
  }
 ],
 "metadata": {
  "kernelspec": {
   "display_name": "Python 3 (ipykernel)",
   "language": "python",
   "name": "python3"
  },
  "language_info": {
   "codemirror_mode": {
    "name": "ipython",
    "version": 3
   },
   "file_extension": ".py",
   "mimetype": "text/x-python",
   "name": "python",
   "nbconvert_exporter": "python",
   "pygments_lexer": "ipython3",
   "version": "3.9.12"
  }
 },
 "nbformat": 4,
 "nbformat_minor": 5
}
